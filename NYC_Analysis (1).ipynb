{
 "cells": [
  {
   "cell_type": "code",
   "execution_count": 1,
   "metadata": {
    "id": "hOFblpbwyTvT"
   },
   "outputs": [],
   "source": [
    "import numpy as np\n",
    "import pandas as pd"
   ]
  },
  {
   "cell_type": "markdown",
   "metadata": {},
   "source": [
    "#### Importing Data & Converting all Columns with Date into DateTime Format"
   ]
  },
  {
   "cell_type": "code",
   "execution_count": 2,
   "metadata": {
    "id": "8nfwNTHWycVa"
   },
   "outputs": [
    {
     "name": "stderr",
     "output_type": "stream",
     "text": [
      "C:\\Users\\hpups\\Anaconda3\\lib\\site-packages\\IPython\\core\\interactiveshell.py:3058: DtypeWarning: Columns (48,49) have mixed types. Specify dtype option on import or set low_memory=False.\n",
      "  interactivity=interactivity, compiler=compiler, result=result)\n"
     ]
    }
   ],
   "source": [
    "df = pd.read_csv(r'C:\\Users\\hpups\\Data Science with Python Two\\311_Service_Requests_from_2010_to_Present.csv', parse_dates =['Created Date','Closed Date'])"
   ]
  },
  {
   "cell_type": "code",
   "execution_count": 3,
   "metadata": {
    "id": "B3yyirObQcTf"
   },
   "outputs": [
    {
     "data": {
      "text/plain": [
       "dtype('<M8[ns]')"
      ]
     },
     "execution_count": 3,
     "metadata": {},
     "output_type": "execute_result"
    }
   ],
   "source": [
    "# Checking The Datatype of Closed Date\n",
    "\n",
    "df['Closed Date'].dtype"
   ]
  },
  {
   "cell_type": "code",
   "execution_count": 4,
   "metadata": {
    "id": "mxD4k8KQRLL-"
   },
   "outputs": [
    {
     "data": {
      "text/plain": [
       "dtype('<M8[ns]')"
      ]
     },
     "execution_count": 4,
     "metadata": {},
     "output_type": "execute_result"
    }
   ],
   "source": [
    "# Checking the datatype of Created Date\n",
    "\n",
    "df['Created Date'].dtype"
   ]
  },
  {
   "cell_type": "code",
   "execution_count": 5,
   "metadata": {
    "id": "I3rUd2XWRNoZ"
   },
   "outputs": [
    {
     "data": {
      "text/html": [
       "<div>\n",
       "<style scoped>\n",
       "    .dataframe tbody tr th:only-of-type {\n",
       "        vertical-align: middle;\n",
       "    }\n",
       "\n",
       "    .dataframe tbody tr th {\n",
       "        vertical-align: top;\n",
       "    }\n",
       "\n",
       "    .dataframe thead th {\n",
       "        text-align: right;\n",
       "    }\n",
       "</style>\n",
       "<table border=\"1\" class=\"dataframe\">\n",
       "  <thead>\n",
       "    <tr style=\"text-align: right;\">\n",
       "      <th></th>\n",
       "      <th>Unique Key</th>\n",
       "      <th>Created Date</th>\n",
       "      <th>Closed Date</th>\n",
       "      <th>Agency</th>\n",
       "      <th>Agency Name</th>\n",
       "      <th>Complaint Type</th>\n",
       "      <th>Descriptor</th>\n",
       "      <th>Location Type</th>\n",
       "      <th>Incident Zip</th>\n",
       "      <th>Incident Address</th>\n",
       "      <th>...</th>\n",
       "      <th>Bridge Highway Name</th>\n",
       "      <th>Bridge Highway Direction</th>\n",
       "      <th>Road Ramp</th>\n",
       "      <th>Bridge Highway Segment</th>\n",
       "      <th>Garage Lot Name</th>\n",
       "      <th>Ferry Direction</th>\n",
       "      <th>Ferry Terminal Name</th>\n",
       "      <th>Latitude</th>\n",
       "      <th>Longitude</th>\n",
       "      <th>Location</th>\n",
       "    </tr>\n",
       "  </thead>\n",
       "  <tbody>\n",
       "    <tr>\n",
       "      <td>0</td>\n",
       "      <td>32310363</td>\n",
       "      <td>2015-12-31 23:59:45</td>\n",
       "      <td>2016-01-01 00:55:00</td>\n",
       "      <td>NYPD</td>\n",
       "      <td>New York City Police Department</td>\n",
       "      <td>Noise - Street/Sidewalk</td>\n",
       "      <td>Loud Music/Party</td>\n",
       "      <td>Street/Sidewalk</td>\n",
       "      <td>10034.0</td>\n",
       "      <td>71 VERMILYEA AVENUE</td>\n",
       "      <td>...</td>\n",
       "      <td>NaN</td>\n",
       "      <td>NaN</td>\n",
       "      <td>NaN</td>\n",
       "      <td>NaN</td>\n",
       "      <td>NaN</td>\n",
       "      <td>NaN</td>\n",
       "      <td>NaN</td>\n",
       "      <td>40.865682</td>\n",
       "      <td>-73.923501</td>\n",
       "      <td>(40.86568153633767, -73.92350095571744)</td>\n",
       "    </tr>\n",
       "    <tr>\n",
       "      <td>1</td>\n",
       "      <td>32309934</td>\n",
       "      <td>2015-12-31 23:59:44</td>\n",
       "      <td>2016-01-01 01:26:00</td>\n",
       "      <td>NYPD</td>\n",
       "      <td>New York City Police Department</td>\n",
       "      <td>Blocked Driveway</td>\n",
       "      <td>No Access</td>\n",
       "      <td>Street/Sidewalk</td>\n",
       "      <td>11105.0</td>\n",
       "      <td>27-07 23 AVENUE</td>\n",
       "      <td>...</td>\n",
       "      <td>NaN</td>\n",
       "      <td>NaN</td>\n",
       "      <td>NaN</td>\n",
       "      <td>NaN</td>\n",
       "      <td>NaN</td>\n",
       "      <td>NaN</td>\n",
       "      <td>NaN</td>\n",
       "      <td>40.775945</td>\n",
       "      <td>-73.915094</td>\n",
       "      <td>(40.775945312321085, -73.91509393898605)</td>\n",
       "    </tr>\n",
       "    <tr>\n",
       "      <td>2</td>\n",
       "      <td>32309159</td>\n",
       "      <td>2015-12-31 23:59:29</td>\n",
       "      <td>2016-01-01 04:51:00</td>\n",
       "      <td>NYPD</td>\n",
       "      <td>New York City Police Department</td>\n",
       "      <td>Blocked Driveway</td>\n",
       "      <td>No Access</td>\n",
       "      <td>Street/Sidewalk</td>\n",
       "      <td>10458.0</td>\n",
       "      <td>2897 VALENTINE AVENUE</td>\n",
       "      <td>...</td>\n",
       "      <td>NaN</td>\n",
       "      <td>NaN</td>\n",
       "      <td>NaN</td>\n",
       "      <td>NaN</td>\n",
       "      <td>NaN</td>\n",
       "      <td>NaN</td>\n",
       "      <td>NaN</td>\n",
       "      <td>40.870325</td>\n",
       "      <td>-73.888525</td>\n",
       "      <td>(40.870324522111424, -73.88852464418646)</td>\n",
       "    </tr>\n",
       "    <tr>\n",
       "      <td>3</td>\n",
       "      <td>32305098</td>\n",
       "      <td>2015-12-31 23:57:46</td>\n",
       "      <td>2016-01-01 07:43:00</td>\n",
       "      <td>NYPD</td>\n",
       "      <td>New York City Police Department</td>\n",
       "      <td>Illegal Parking</td>\n",
       "      <td>Commercial Overnight Parking</td>\n",
       "      <td>Street/Sidewalk</td>\n",
       "      <td>10461.0</td>\n",
       "      <td>2940 BAISLEY AVENUE</td>\n",
       "      <td>...</td>\n",
       "      <td>NaN</td>\n",
       "      <td>NaN</td>\n",
       "      <td>NaN</td>\n",
       "      <td>NaN</td>\n",
       "      <td>NaN</td>\n",
       "      <td>NaN</td>\n",
       "      <td>NaN</td>\n",
       "      <td>40.835994</td>\n",
       "      <td>-73.828379</td>\n",
       "      <td>(40.83599404683083, -73.82837939584206)</td>\n",
       "    </tr>\n",
       "    <tr>\n",
       "      <td>4</td>\n",
       "      <td>32306529</td>\n",
       "      <td>2015-12-31 23:56:58</td>\n",
       "      <td>2016-01-01 03:24:00</td>\n",
       "      <td>NYPD</td>\n",
       "      <td>New York City Police Department</td>\n",
       "      <td>Illegal Parking</td>\n",
       "      <td>Blocked Sidewalk</td>\n",
       "      <td>Street/Sidewalk</td>\n",
       "      <td>11373.0</td>\n",
       "      <td>87-14 57 ROAD</td>\n",
       "      <td>...</td>\n",
       "      <td>NaN</td>\n",
       "      <td>NaN</td>\n",
       "      <td>NaN</td>\n",
       "      <td>NaN</td>\n",
       "      <td>NaN</td>\n",
       "      <td>NaN</td>\n",
       "      <td>NaN</td>\n",
       "      <td>40.733060</td>\n",
       "      <td>-73.874170</td>\n",
       "      <td>(40.733059618956815, -73.87416975810375)</td>\n",
       "    </tr>\n",
       "    <tr>\n",
       "      <td>5</td>\n",
       "      <td>32306554</td>\n",
       "      <td>2015-12-31 23:56:30</td>\n",
       "      <td>2016-01-01 01:50:00</td>\n",
       "      <td>NYPD</td>\n",
       "      <td>New York City Police Department</td>\n",
       "      <td>Illegal Parking</td>\n",
       "      <td>Posted Parking Sign Violation</td>\n",
       "      <td>Street/Sidewalk</td>\n",
       "      <td>11215.0</td>\n",
       "      <td>260 21 STREET</td>\n",
       "      <td>...</td>\n",
       "      <td>NaN</td>\n",
       "      <td>NaN</td>\n",
       "      <td>NaN</td>\n",
       "      <td>NaN</td>\n",
       "      <td>NaN</td>\n",
       "      <td>NaN</td>\n",
       "      <td>NaN</td>\n",
       "      <td>40.660823</td>\n",
       "      <td>-73.992568</td>\n",
       "      <td>(40.66082272389114, -73.99256786342693)</td>\n",
       "    </tr>\n",
       "    <tr>\n",
       "      <td>6</td>\n",
       "      <td>32306559</td>\n",
       "      <td>2015-12-31 23:55:32</td>\n",
       "      <td>2016-01-01 01:53:00</td>\n",
       "      <td>NYPD</td>\n",
       "      <td>New York City Police Department</td>\n",
       "      <td>Illegal Parking</td>\n",
       "      <td>Blocked Hydrant</td>\n",
       "      <td>Street/Sidewalk</td>\n",
       "      <td>10032.0</td>\n",
       "      <td>524 WEST 169 STREET</td>\n",
       "      <td>...</td>\n",
       "      <td>NaN</td>\n",
       "      <td>NaN</td>\n",
       "      <td>NaN</td>\n",
       "      <td>NaN</td>\n",
       "      <td>NaN</td>\n",
       "      <td>NaN</td>\n",
       "      <td>NaN</td>\n",
       "      <td>40.840848</td>\n",
       "      <td>-73.937375</td>\n",
       "      <td>(40.840847591440415, -73.9373750864581)</td>\n",
       "    </tr>\n",
       "    <tr>\n",
       "      <td>7</td>\n",
       "      <td>32307009</td>\n",
       "      <td>2015-12-31 23:54:05</td>\n",
       "      <td>2016-01-01 01:42:00</td>\n",
       "      <td>NYPD</td>\n",
       "      <td>New York City Police Department</td>\n",
       "      <td>Blocked Driveway</td>\n",
       "      <td>No Access</td>\n",
       "      <td>Street/Sidewalk</td>\n",
       "      <td>10457.0</td>\n",
       "      <td>501 EAST 171 STREET</td>\n",
       "      <td>...</td>\n",
       "      <td>NaN</td>\n",
       "      <td>NaN</td>\n",
       "      <td>NaN</td>\n",
       "      <td>NaN</td>\n",
       "      <td>NaN</td>\n",
       "      <td>NaN</td>\n",
       "      <td>NaN</td>\n",
       "      <td>40.837503</td>\n",
       "      <td>-73.902905</td>\n",
       "      <td>(40.83750262540012, -73.90290517326568)</td>\n",
       "    </tr>\n",
       "    <tr>\n",
       "      <td>8</td>\n",
       "      <td>32308581</td>\n",
       "      <td>2015-12-31 23:53:58</td>\n",
       "      <td>2016-01-01 08:27:00</td>\n",
       "      <td>NYPD</td>\n",
       "      <td>New York City Police Department</td>\n",
       "      <td>Illegal Parking</td>\n",
       "      <td>Posted Parking Sign Violation</td>\n",
       "      <td>Street/Sidewalk</td>\n",
       "      <td>11415.0</td>\n",
       "      <td>83-44 LEFFERTS BOULEVARD</td>\n",
       "      <td>...</td>\n",
       "      <td>NaN</td>\n",
       "      <td>NaN</td>\n",
       "      <td>NaN</td>\n",
       "      <td>NaN</td>\n",
       "      <td>NaN</td>\n",
       "      <td>NaN</td>\n",
       "      <td>NaN</td>\n",
       "      <td>40.704977</td>\n",
       "      <td>-73.832605</td>\n",
       "      <td>(40.704977164399935, -73.8326047502584)</td>\n",
       "    </tr>\n",
       "    <tr>\n",
       "      <td>9</td>\n",
       "      <td>32308391</td>\n",
       "      <td>2015-12-31 23:53:58</td>\n",
       "      <td>2016-01-01 01:17:00</td>\n",
       "      <td>NYPD</td>\n",
       "      <td>New York City Police Department</td>\n",
       "      <td>Blocked Driveway</td>\n",
       "      <td>No Access</td>\n",
       "      <td>Street/Sidewalk</td>\n",
       "      <td>11219.0</td>\n",
       "      <td>1408 66 STREET</td>\n",
       "      <td>...</td>\n",
       "      <td>NaN</td>\n",
       "      <td>NaN</td>\n",
       "      <td>NaN</td>\n",
       "      <td>NaN</td>\n",
       "      <td>NaN</td>\n",
       "      <td>NaN</td>\n",
       "      <td>NaN</td>\n",
       "      <td>40.623793</td>\n",
       "      <td>-73.999539</td>\n",
       "      <td>(40.623793065806524, -73.99953890121567)</td>\n",
       "    </tr>\n",
       "  </tbody>\n",
       "</table>\n",
       "<p>10 rows × 53 columns</p>\n",
       "</div>"
      ],
      "text/plain": [
       "   Unique Key        Created Date         Closed Date Agency  \\\n",
       "0    32310363 2015-12-31 23:59:45 2016-01-01 00:55:00   NYPD   \n",
       "1    32309934 2015-12-31 23:59:44 2016-01-01 01:26:00   NYPD   \n",
       "2    32309159 2015-12-31 23:59:29 2016-01-01 04:51:00   NYPD   \n",
       "3    32305098 2015-12-31 23:57:46 2016-01-01 07:43:00   NYPD   \n",
       "4    32306529 2015-12-31 23:56:58 2016-01-01 03:24:00   NYPD   \n",
       "5    32306554 2015-12-31 23:56:30 2016-01-01 01:50:00   NYPD   \n",
       "6    32306559 2015-12-31 23:55:32 2016-01-01 01:53:00   NYPD   \n",
       "7    32307009 2015-12-31 23:54:05 2016-01-01 01:42:00   NYPD   \n",
       "8    32308581 2015-12-31 23:53:58 2016-01-01 08:27:00   NYPD   \n",
       "9    32308391 2015-12-31 23:53:58 2016-01-01 01:17:00   NYPD   \n",
       "\n",
       "                       Agency Name           Complaint Type  \\\n",
       "0  New York City Police Department  Noise - Street/Sidewalk   \n",
       "1  New York City Police Department         Blocked Driveway   \n",
       "2  New York City Police Department         Blocked Driveway   \n",
       "3  New York City Police Department          Illegal Parking   \n",
       "4  New York City Police Department          Illegal Parking   \n",
       "5  New York City Police Department          Illegal Parking   \n",
       "6  New York City Police Department          Illegal Parking   \n",
       "7  New York City Police Department         Blocked Driveway   \n",
       "8  New York City Police Department          Illegal Parking   \n",
       "9  New York City Police Department         Blocked Driveway   \n",
       "\n",
       "                      Descriptor    Location Type  Incident Zip  \\\n",
       "0               Loud Music/Party  Street/Sidewalk       10034.0   \n",
       "1                      No Access  Street/Sidewalk       11105.0   \n",
       "2                      No Access  Street/Sidewalk       10458.0   \n",
       "3   Commercial Overnight Parking  Street/Sidewalk       10461.0   \n",
       "4               Blocked Sidewalk  Street/Sidewalk       11373.0   \n",
       "5  Posted Parking Sign Violation  Street/Sidewalk       11215.0   \n",
       "6                Blocked Hydrant  Street/Sidewalk       10032.0   \n",
       "7                      No Access  Street/Sidewalk       10457.0   \n",
       "8  Posted Parking Sign Violation  Street/Sidewalk       11415.0   \n",
       "9                      No Access  Street/Sidewalk       11219.0   \n",
       "\n",
       "           Incident Address  ... Bridge Highway Name Bridge Highway Direction  \\\n",
       "0       71 VERMILYEA AVENUE  ...                 NaN                      NaN   \n",
       "1           27-07 23 AVENUE  ...                 NaN                      NaN   \n",
       "2     2897 VALENTINE AVENUE  ...                 NaN                      NaN   \n",
       "3       2940 BAISLEY AVENUE  ...                 NaN                      NaN   \n",
       "4             87-14 57 ROAD  ...                 NaN                      NaN   \n",
       "5             260 21 STREET  ...                 NaN                      NaN   \n",
       "6       524 WEST 169 STREET  ...                 NaN                      NaN   \n",
       "7       501 EAST 171 STREET  ...                 NaN                      NaN   \n",
       "8  83-44 LEFFERTS BOULEVARD  ...                 NaN                      NaN   \n",
       "9            1408 66 STREET  ...                 NaN                      NaN   \n",
       "\n",
       "  Road Ramp Bridge Highway Segment Garage Lot Name Ferry Direction  \\\n",
       "0       NaN                    NaN             NaN             NaN   \n",
       "1       NaN                    NaN             NaN             NaN   \n",
       "2       NaN                    NaN             NaN             NaN   \n",
       "3       NaN                    NaN             NaN             NaN   \n",
       "4       NaN                    NaN             NaN             NaN   \n",
       "5       NaN                    NaN             NaN             NaN   \n",
       "6       NaN                    NaN             NaN             NaN   \n",
       "7       NaN                    NaN             NaN             NaN   \n",
       "8       NaN                    NaN             NaN             NaN   \n",
       "9       NaN                    NaN             NaN             NaN   \n",
       "\n",
       "  Ferry Terminal Name   Latitude  Longitude  \\\n",
       "0                 NaN  40.865682 -73.923501   \n",
       "1                 NaN  40.775945 -73.915094   \n",
       "2                 NaN  40.870325 -73.888525   \n",
       "3                 NaN  40.835994 -73.828379   \n",
       "4                 NaN  40.733060 -73.874170   \n",
       "5                 NaN  40.660823 -73.992568   \n",
       "6                 NaN  40.840848 -73.937375   \n",
       "7                 NaN  40.837503 -73.902905   \n",
       "8                 NaN  40.704977 -73.832605   \n",
       "9                 NaN  40.623793 -73.999539   \n",
       "\n",
       "                                   Location  \n",
       "0   (40.86568153633767, -73.92350095571744)  \n",
       "1  (40.775945312321085, -73.91509393898605)  \n",
       "2  (40.870324522111424, -73.88852464418646)  \n",
       "3   (40.83599404683083, -73.82837939584206)  \n",
       "4  (40.733059618956815, -73.87416975810375)  \n",
       "5   (40.66082272389114, -73.99256786342693)  \n",
       "6   (40.840847591440415, -73.9373750864581)  \n",
       "7   (40.83750262540012, -73.90290517326568)  \n",
       "8   (40.704977164399935, -73.8326047502584)  \n",
       "9  (40.623793065806524, -73.99953890121567)  \n",
       "\n",
       "[10 rows x 53 columns]"
      ]
     },
     "execution_count": 5,
     "metadata": {},
     "output_type": "execute_result"
    }
   ],
   "source": [
    "df.head(10)"
   ]
  },
  {
   "cell_type": "code",
   "execution_count": 6,
   "metadata": {
    "id": "QGCiBinoRPfP"
   },
   "outputs": [
    {
     "data": {
      "text/plain": [
       "Index(['Unique Key', 'Created Date', 'Closed Date', 'Agency', 'Agency Name',\n",
       "       'Complaint Type', 'Descriptor', 'Location Type', 'Incident Zip',\n",
       "       'Incident Address', 'Street Name', 'Cross Street 1', 'Cross Street 2',\n",
       "       'Intersection Street 1', 'Intersection Street 2', 'Address Type',\n",
       "       'City', 'Landmark', 'Facility Type', 'Status', 'Due Date',\n",
       "       'Resolution Description', 'Resolution Action Updated Date',\n",
       "       'Community Board', 'Borough', 'X Coordinate (State Plane)',\n",
       "       'Y Coordinate (State Plane)', 'Park Facility Name', 'Park Borough',\n",
       "       'School Name', 'School Number', 'School Region', 'School Code',\n",
       "       'School Phone Number', 'School Address', 'School City', 'School State',\n",
       "       'School Zip', 'School Not Found', 'School or Citywide Complaint',\n",
       "       'Vehicle Type', 'Taxi Company Borough', 'Taxi Pick Up Location',\n",
       "       'Bridge Highway Name', 'Bridge Highway Direction', 'Road Ramp',\n",
       "       'Bridge Highway Segment', 'Garage Lot Name', 'Ferry Direction',\n",
       "       'Ferry Terminal Name', 'Latitude', 'Longitude', 'Location'],\n",
       "      dtype='object')"
      ]
     },
     "execution_count": 6,
     "metadata": {},
     "output_type": "execute_result"
    }
   ],
   "source": [
    "df.columns"
   ]
  },
  {
   "cell_type": "markdown",
   "metadata": {},
   "source": [
    "#### Finding the time lapsed between ticket created time & ticket closed time. This is marked as \"Request_Closing_Time\""
   ]
  },
  {
   "cell_type": "code",
   "execution_count": 7,
   "metadata": {
    "id": "MOdW93D4RU2J"
   },
   "outputs": [],
   "source": [
    "Request_Closing_Time = df['Closed Date'] - df['Created Date']"
   ]
  },
  {
   "cell_type": "code",
   "execution_count": 8,
   "metadata": {
    "id": "DZCSY21nRgmi"
   },
   "outputs": [],
   "source": [
    "df['Request_Closing_Time'] = Request_Closing_Time"
   ]
  },
  {
   "cell_type": "code",
   "execution_count": 9,
   "metadata": {
    "id": "VBPLCxd1Ry7H"
   },
   "outputs": [],
   "source": [
    "df_processed_1 = df.drop(['Unique Key','Agency', 'Agency Name',\n",
    "       'Incident Address', 'Street Name', 'Cross Street 1', 'Cross Street 2',\n",
    "       'Intersection Street 1', 'Intersection Street 2', 'Address Type','Landmark','Facility Type','Resolution Description',\n",
    "       'Community Board', 'X Coordinate (State Plane)',\n",
    "       'Y Coordinate (State Plane)', 'Park Facility Name',\n",
    "       'School Name', 'School Number', 'School Region', 'School Code',\n",
    "       'School Phone Number', 'School Address', 'School City', 'School State',\n",
    "       'School Zip', 'School Not Found', 'School or Citywide Complaint',\n",
    "       'Vehicle Type', 'Taxi Company Borough', 'Taxi Pick Up Location',\n",
    "       'Bridge Highway Name', 'Bridge Highway Direction', 'Road Ramp',\n",
    "       'Bridge Highway Segment', 'Garage Lot Name', 'Ferry Direction',\n",
    "       'Ferry Terminal Name', 'Latitude', 'Longitude', 'Location'], axis=1)"
   ]
  },
  {
   "cell_type": "code",
   "execution_count": 10,
   "metadata": {
    "id": "-8vr1L16TFZs"
   },
   "outputs": [
    {
     "data": {
      "text/html": [
       "<div>\n",
       "<style scoped>\n",
       "    .dataframe tbody tr th:only-of-type {\n",
       "        vertical-align: middle;\n",
       "    }\n",
       "\n",
       "    .dataframe tbody tr th {\n",
       "        vertical-align: top;\n",
       "    }\n",
       "\n",
       "    .dataframe thead th {\n",
       "        text-align: right;\n",
       "    }\n",
       "</style>\n",
       "<table border=\"1\" class=\"dataframe\">\n",
       "  <thead>\n",
       "    <tr style=\"text-align: right;\">\n",
       "      <th></th>\n",
       "      <th>Created Date</th>\n",
       "      <th>Closed Date</th>\n",
       "      <th>Complaint Type</th>\n",
       "      <th>Descriptor</th>\n",
       "      <th>Location Type</th>\n",
       "      <th>Incident Zip</th>\n",
       "      <th>City</th>\n",
       "      <th>Status</th>\n",
       "      <th>Due Date</th>\n",
       "      <th>Resolution Action Updated Date</th>\n",
       "      <th>Borough</th>\n",
       "      <th>Park Borough</th>\n",
       "      <th>Request_Closing_Time</th>\n",
       "    </tr>\n",
       "  </thead>\n",
       "  <tbody>\n",
       "    <tr>\n",
       "      <td>0</td>\n",
       "      <td>2015-12-31 23:59:45</td>\n",
       "      <td>2016-01-01 00:55:00</td>\n",
       "      <td>Noise - Street/Sidewalk</td>\n",
       "      <td>Loud Music/Party</td>\n",
       "      <td>Street/Sidewalk</td>\n",
       "      <td>10034.0</td>\n",
       "      <td>NEW YORK</td>\n",
       "      <td>Closed</td>\n",
       "      <td>01-01-16 7:59</td>\n",
       "      <td>01-01-16 0:55</td>\n",
       "      <td>MANHATTAN</td>\n",
       "      <td>MANHATTAN</td>\n",
       "      <td>00:55:15</td>\n",
       "    </tr>\n",
       "    <tr>\n",
       "      <td>1</td>\n",
       "      <td>2015-12-31 23:59:44</td>\n",
       "      <td>2016-01-01 01:26:00</td>\n",
       "      <td>Blocked Driveway</td>\n",
       "      <td>No Access</td>\n",
       "      <td>Street/Sidewalk</td>\n",
       "      <td>11105.0</td>\n",
       "      <td>ASTORIA</td>\n",
       "      <td>Closed</td>\n",
       "      <td>01-01-16 7:59</td>\n",
       "      <td>01-01-16 1:26</td>\n",
       "      <td>QUEENS</td>\n",
       "      <td>QUEENS</td>\n",
       "      <td>01:26:16</td>\n",
       "    </tr>\n",
       "    <tr>\n",
       "      <td>2</td>\n",
       "      <td>2015-12-31 23:59:29</td>\n",
       "      <td>2016-01-01 04:51:00</td>\n",
       "      <td>Blocked Driveway</td>\n",
       "      <td>No Access</td>\n",
       "      <td>Street/Sidewalk</td>\n",
       "      <td>10458.0</td>\n",
       "      <td>BRONX</td>\n",
       "      <td>Closed</td>\n",
       "      <td>01-01-16 7:59</td>\n",
       "      <td>01-01-16 4:51</td>\n",
       "      <td>BRONX</td>\n",
       "      <td>BRONX</td>\n",
       "      <td>04:51:31</td>\n",
       "    </tr>\n",
       "    <tr>\n",
       "      <td>3</td>\n",
       "      <td>2015-12-31 23:57:46</td>\n",
       "      <td>2016-01-01 07:43:00</td>\n",
       "      <td>Illegal Parking</td>\n",
       "      <td>Commercial Overnight Parking</td>\n",
       "      <td>Street/Sidewalk</td>\n",
       "      <td>10461.0</td>\n",
       "      <td>BRONX</td>\n",
       "      <td>Closed</td>\n",
       "      <td>01-01-16 7:57</td>\n",
       "      <td>01-01-16 7:43</td>\n",
       "      <td>BRONX</td>\n",
       "      <td>BRONX</td>\n",
       "      <td>07:45:14</td>\n",
       "    </tr>\n",
       "    <tr>\n",
       "      <td>4</td>\n",
       "      <td>2015-12-31 23:56:58</td>\n",
       "      <td>2016-01-01 03:24:00</td>\n",
       "      <td>Illegal Parking</td>\n",
       "      <td>Blocked Sidewalk</td>\n",
       "      <td>Street/Sidewalk</td>\n",
       "      <td>11373.0</td>\n",
       "      <td>ELMHURST</td>\n",
       "      <td>Closed</td>\n",
       "      <td>01-01-16 7:56</td>\n",
       "      <td>01-01-16 3:24</td>\n",
       "      <td>QUEENS</td>\n",
       "      <td>QUEENS</td>\n",
       "      <td>03:27:02</td>\n",
       "    </tr>\n",
       "    <tr>\n",
       "      <td>...</td>\n",
       "      <td>...</td>\n",
       "      <td>...</td>\n",
       "      <td>...</td>\n",
       "      <td>...</td>\n",
       "      <td>...</td>\n",
       "      <td>...</td>\n",
       "      <td>...</td>\n",
       "      <td>...</td>\n",
       "      <td>...</td>\n",
       "      <td>...</td>\n",
       "      <td>...</td>\n",
       "      <td>...</td>\n",
       "      <td>...</td>\n",
       "    </tr>\n",
       "    <tr>\n",
       "      <td>300693</td>\n",
       "      <td>2015-03-29 00:33:41</td>\n",
       "      <td>NaT</td>\n",
       "      <td>Noise - Commercial</td>\n",
       "      <td>Loud Music/Party</td>\n",
       "      <td>Club/Bar/Restaurant</td>\n",
       "      <td>NaN</td>\n",
       "      <td>NaN</td>\n",
       "      <td>Open</td>\n",
       "      <td>03/29/2015 08:33:41 AM</td>\n",
       "      <td>NaN</td>\n",
       "      <td>Unspecified</td>\n",
       "      <td>Unspecified</td>\n",
       "      <td>NaT</td>\n",
       "    </tr>\n",
       "    <tr>\n",
       "      <td>300694</td>\n",
       "      <td>2015-03-29 00:33:28</td>\n",
       "      <td>2015-03-29 02:33:59</td>\n",
       "      <td>Blocked Driveway</td>\n",
       "      <td>Partial Access</td>\n",
       "      <td>Street/Sidewalk</td>\n",
       "      <td>11418.0</td>\n",
       "      <td>RICHMOND HILL</td>\n",
       "      <td>Closed</td>\n",
       "      <td>03/29/2015 08:33:28 AM</td>\n",
       "      <td>03/29/2015 02:33:59 AM</td>\n",
       "      <td>QUEENS</td>\n",
       "      <td>QUEENS</td>\n",
       "      <td>02:00:31</td>\n",
       "    </tr>\n",
       "    <tr>\n",
       "      <td>300695</td>\n",
       "      <td>2015-03-29 00:33:03</td>\n",
       "      <td>2015-03-29 03:40:20</td>\n",
       "      <td>Noise - Commercial</td>\n",
       "      <td>Loud Music/Party</td>\n",
       "      <td>Club/Bar/Restaurant</td>\n",
       "      <td>11206.0</td>\n",
       "      <td>BROOKLYN</td>\n",
       "      <td>Closed</td>\n",
       "      <td>03/29/2015 08:33:03 AM</td>\n",
       "      <td>03/29/2015 03:40:20 AM</td>\n",
       "      <td>BROOKLYN</td>\n",
       "      <td>BROOKLYN</td>\n",
       "      <td>03:07:17</td>\n",
       "    </tr>\n",
       "    <tr>\n",
       "      <td>300696</td>\n",
       "      <td>2015-03-29 00:33:02</td>\n",
       "      <td>2015-03-29 04:38:35</td>\n",
       "      <td>Noise - Commercial</td>\n",
       "      <td>Loud Music/Party</td>\n",
       "      <td>Club/Bar/Restaurant</td>\n",
       "      <td>10461.0</td>\n",
       "      <td>BRONX</td>\n",
       "      <td>Closed</td>\n",
       "      <td>03/29/2015 08:33:02 AM</td>\n",
       "      <td>03/29/2015 04:38:35 AM</td>\n",
       "      <td>BRONX</td>\n",
       "      <td>BRONX</td>\n",
       "      <td>04:05:33</td>\n",
       "    </tr>\n",
       "    <tr>\n",
       "      <td>300697</td>\n",
       "      <td>2015-03-29 00:33:01</td>\n",
       "      <td>2015-03-29 04:41:50</td>\n",
       "      <td>Noise - Commercial</td>\n",
       "      <td>Loud Music/Party</td>\n",
       "      <td>Store/Commercial</td>\n",
       "      <td>10036.0</td>\n",
       "      <td>NEW YORK</td>\n",
       "      <td>Closed</td>\n",
       "      <td>03/29/2015 08:33:01 AM</td>\n",
       "      <td>03/29/2015 04:41:50 AM</td>\n",
       "      <td>MANHATTAN</td>\n",
       "      <td>MANHATTAN</td>\n",
       "      <td>04:08:49</td>\n",
       "    </tr>\n",
       "  </tbody>\n",
       "</table>\n",
       "<p>300698 rows × 13 columns</p>\n",
       "</div>"
      ],
      "text/plain": [
       "              Created Date         Closed Date           Complaint Type  \\\n",
       "0      2015-12-31 23:59:45 2016-01-01 00:55:00  Noise - Street/Sidewalk   \n",
       "1      2015-12-31 23:59:44 2016-01-01 01:26:00         Blocked Driveway   \n",
       "2      2015-12-31 23:59:29 2016-01-01 04:51:00         Blocked Driveway   \n",
       "3      2015-12-31 23:57:46 2016-01-01 07:43:00          Illegal Parking   \n",
       "4      2015-12-31 23:56:58 2016-01-01 03:24:00          Illegal Parking   \n",
       "...                    ...                 ...                      ...   \n",
       "300693 2015-03-29 00:33:41                 NaT       Noise - Commercial   \n",
       "300694 2015-03-29 00:33:28 2015-03-29 02:33:59         Blocked Driveway   \n",
       "300695 2015-03-29 00:33:03 2015-03-29 03:40:20       Noise - Commercial   \n",
       "300696 2015-03-29 00:33:02 2015-03-29 04:38:35       Noise - Commercial   \n",
       "300697 2015-03-29 00:33:01 2015-03-29 04:41:50       Noise - Commercial   \n",
       "\n",
       "                          Descriptor        Location Type  Incident Zip  \\\n",
       "0                   Loud Music/Party      Street/Sidewalk       10034.0   \n",
       "1                          No Access      Street/Sidewalk       11105.0   \n",
       "2                          No Access      Street/Sidewalk       10458.0   \n",
       "3       Commercial Overnight Parking      Street/Sidewalk       10461.0   \n",
       "4                   Blocked Sidewalk      Street/Sidewalk       11373.0   \n",
       "...                              ...                  ...           ...   \n",
       "300693              Loud Music/Party  Club/Bar/Restaurant           NaN   \n",
       "300694                Partial Access      Street/Sidewalk       11418.0   \n",
       "300695              Loud Music/Party  Club/Bar/Restaurant       11206.0   \n",
       "300696              Loud Music/Party  Club/Bar/Restaurant       10461.0   \n",
       "300697              Loud Music/Party     Store/Commercial       10036.0   \n",
       "\n",
       "                 City  Status                Due Date  \\\n",
       "0            NEW YORK  Closed           01-01-16 7:59   \n",
       "1             ASTORIA  Closed           01-01-16 7:59   \n",
       "2               BRONX  Closed           01-01-16 7:59   \n",
       "3               BRONX  Closed           01-01-16 7:57   \n",
       "4            ELMHURST  Closed           01-01-16 7:56   \n",
       "...               ...     ...                     ...   \n",
       "300693            NaN    Open  03/29/2015 08:33:41 AM   \n",
       "300694  RICHMOND HILL  Closed  03/29/2015 08:33:28 AM   \n",
       "300695       BROOKLYN  Closed  03/29/2015 08:33:03 AM   \n",
       "300696          BRONX  Closed  03/29/2015 08:33:02 AM   \n",
       "300697       NEW YORK  Closed  03/29/2015 08:33:01 AM   \n",
       "\n",
       "       Resolution Action Updated Date      Borough Park Borough  \\\n",
       "0                       01-01-16 0:55    MANHATTAN    MANHATTAN   \n",
       "1                       01-01-16 1:26       QUEENS       QUEENS   \n",
       "2                       01-01-16 4:51        BRONX        BRONX   \n",
       "3                       01-01-16 7:43        BRONX        BRONX   \n",
       "4                       01-01-16 3:24       QUEENS       QUEENS   \n",
       "...                               ...          ...          ...   \n",
       "300693                            NaN  Unspecified  Unspecified   \n",
       "300694         03/29/2015 02:33:59 AM       QUEENS       QUEENS   \n",
       "300695         03/29/2015 03:40:20 AM     BROOKLYN     BROOKLYN   \n",
       "300696         03/29/2015 04:38:35 AM        BRONX        BRONX   \n",
       "300697         03/29/2015 04:41:50 AM    MANHATTAN    MANHATTAN   \n",
       "\n",
       "       Request_Closing_Time  \n",
       "0                  00:55:15  \n",
       "1                  01:26:16  \n",
       "2                  04:51:31  \n",
       "3                  07:45:14  \n",
       "4                  03:27:02  \n",
       "...                     ...  \n",
       "300693                  NaT  \n",
       "300694             02:00:31  \n",
       "300695             03:07:17  \n",
       "300696             04:05:33  \n",
       "300697             04:08:49  \n",
       "\n",
       "[300698 rows x 13 columns]"
      ]
     },
     "execution_count": 10,
     "metadata": {},
     "output_type": "execute_result"
    }
   ],
   "source": [
    "df_processed_1"
   ]
  },
  {
   "cell_type": "code",
   "execution_count": 11,
   "metadata": {
    "id": "NW8h3eGLTHtU"
   },
   "outputs": [
    {
     "data": {
      "text/plain": [
       "Created Date                         0\n",
       "Closed Date                       2164\n",
       "Complaint Type                       0\n",
       "Descriptor                        5914\n",
       "Location Type                      131\n",
       "Incident Zip                      2615\n",
       "City                              2614\n",
       "Status                               0\n",
       "Due Date                             3\n",
       "Resolution Action Updated Date    2187\n",
       "Borough                              0\n",
       "Park Borough                         0\n",
       "Request_Closing_Time              2164\n",
       "dtype: int64"
      ]
     },
     "execution_count": 11,
     "metadata": {},
     "output_type": "execute_result"
    }
   ],
   "source": [
    "df_processed_1.isnull().sum()"
   ]
  },
  {
   "cell_type": "code",
   "execution_count": 12,
   "metadata": {
    "id": "Y_9qJa0LTs5X"
   },
   "outputs": [
    {
     "data": {
      "text/plain": [
       "Timedelta('0 days 04:18:51.832782')"
      ]
     },
     "execution_count": 12,
     "metadata": {},
     "output_type": "execute_result"
    }
   ],
   "source": [
    "mean = df_processed_1['Request_Closing_Time'].mean()\n",
    "mean"
   ]
  },
  {
   "cell_type": "code",
   "execution_count": 13,
   "metadata": {
    "id": "sf-C8mq3TPSW"
   },
   "outputs": [],
   "source": [
    "df_processed_1['Request_Closing_Time'].fillna(value=mean, inplace=True)"
   ]
  },
  {
   "cell_type": "code",
   "execution_count": 14,
   "metadata": {
    "id": "XJnK0fyVT6pD"
   },
   "outputs": [
    {
     "data": {
      "text/plain": [
       "Created Date                         0\n",
       "Closed Date                       2164\n",
       "Complaint Type                       0\n",
       "Descriptor                        5914\n",
       "Location Type                      131\n",
       "Incident Zip                      2615\n",
       "City                              2614\n",
       "Status                               0\n",
       "Due Date                             3\n",
       "Resolution Action Updated Date    2187\n",
       "Borough                              0\n",
       "Park Borough                         0\n",
       "Request_Closing_Time                 0\n",
       "dtype: int64"
      ]
     },
     "execution_count": 14,
     "metadata": {},
     "output_type": "execute_result"
    }
   ],
   "source": [
    "df_processed_1.isnull().sum()"
   ]
  },
  {
   "cell_type": "code",
   "execution_count": 15,
   "metadata": {
    "id": "v7MLjAVoT-gt"
   },
   "outputs": [],
   "source": [
    "df_processed_1 = df_processed_1.dropna(axis=0, subset=['Location Type','City'])"
   ]
  },
  {
   "cell_type": "code",
   "execution_count": 16,
   "metadata": {
    "id": "EbwR3PFDVnq7"
   },
   "outputs": [
    {
     "name": "stdout",
     "output_type": "stream",
     "text": [
      "<class 'pandas.core.frame.DataFrame'>\n",
      "Int64Index: 297962 entries, 0 to 300697\n",
      "Data columns (total 13 columns):\n",
      "Created Date                      297962 non-null datetime64[ns]\n",
      "Closed Date                       297906 non-null datetime64[ns]\n",
      "Complaint Type                    297962 non-null object\n",
      "Descriptor                        292066 non-null object\n",
      "Location Type                     297962 non-null object\n",
      "Incident Zip                      297958 non-null float64\n",
      "City                              297962 non-null object\n",
      "Status                            297962 non-null object\n",
      "Due Date                          297962 non-null object\n",
      "Resolution Action Updated Date    297919 non-null object\n",
      "Borough                           297962 non-null object\n",
      "Park Borough                      297962 non-null object\n",
      "Request_Closing_Time              297962 non-null timedelta64[ns]\n",
      "dtypes: datetime64[ns](2), float64(1), object(9), timedelta64[ns](1)\n",
      "memory usage: 31.8+ MB\n"
     ]
    }
   ],
   "source": [
    "df_processed_1.info()"
   ]
  },
  {
   "cell_type": "code",
   "execution_count": 17,
   "metadata": {
    "id": "DDkaYzzZWCd6"
   },
   "outputs": [],
   "source": [
    "df_processed = df_processed_1"
   ]
  },
  {
   "cell_type": "code",
   "execution_count": 18,
   "metadata": {
    "id": "YlXHDz9CWple"
   },
   "outputs": [],
   "source": [
    "import matplotlib.pyplot as plt\n",
    "from matplotlib import style\n",
    "import seaborn as sns\n",
    "%matplotlib inline\n"
   ]
  },
  {
   "cell_type": "code",
   "execution_count": 19,
   "metadata": {
    "id": "11gNLX4tmK__",
    "scrolled": true
   },
   "outputs": [
    {
     "data": {
      "text/html": [
       "<div>\n",
       "<style scoped>\n",
       "    .dataframe tbody tr th:only-of-type {\n",
       "        vertical-align: middle;\n",
       "    }\n",
       "\n",
       "    .dataframe tbody tr th {\n",
       "        vertical-align: top;\n",
       "    }\n",
       "\n",
       "    .dataframe thead th {\n",
       "        text-align: right;\n",
       "    }\n",
       "</style>\n",
       "<table border=\"1\" class=\"dataframe\">\n",
       "  <thead>\n",
       "    <tr style=\"text-align: right;\">\n",
       "      <th></th>\n",
       "      <th>Created Date</th>\n",
       "      <th>Closed Date</th>\n",
       "      <th>Complaint Type</th>\n",
       "      <th>Descriptor</th>\n",
       "      <th>Location Type</th>\n",
       "      <th>Incident Zip</th>\n",
       "      <th>City</th>\n",
       "      <th>Status</th>\n",
       "      <th>Due Date</th>\n",
       "      <th>Resolution Action Updated Date</th>\n",
       "      <th>Borough</th>\n",
       "      <th>Park Borough</th>\n",
       "      <th>Request_Closing_Time</th>\n",
       "    </tr>\n",
       "  </thead>\n",
       "  <tbody>\n",
       "    <tr>\n",
       "      <td>0</td>\n",
       "      <td>2015-12-31 23:59:45</td>\n",
       "      <td>2016-01-01 00:55:00</td>\n",
       "      <td>Noise - Street/Sidewalk</td>\n",
       "      <td>Loud Music/Party</td>\n",
       "      <td>Street/Sidewalk</td>\n",
       "      <td>10034.0</td>\n",
       "      <td>NEW YORK</td>\n",
       "      <td>Closed</td>\n",
       "      <td>01-01-16 7:59</td>\n",
       "      <td>01-01-16 0:55</td>\n",
       "      <td>MANHATTAN</td>\n",
       "      <td>MANHATTAN</td>\n",
       "      <td>00:55:15</td>\n",
       "    </tr>\n",
       "    <tr>\n",
       "      <td>1</td>\n",
       "      <td>2015-12-31 23:59:44</td>\n",
       "      <td>2016-01-01 01:26:00</td>\n",
       "      <td>Blocked Driveway</td>\n",
       "      <td>No Access</td>\n",
       "      <td>Street/Sidewalk</td>\n",
       "      <td>11105.0</td>\n",
       "      <td>ASTORIA</td>\n",
       "      <td>Closed</td>\n",
       "      <td>01-01-16 7:59</td>\n",
       "      <td>01-01-16 1:26</td>\n",
       "      <td>QUEENS</td>\n",
       "      <td>QUEENS</td>\n",
       "      <td>01:26:16</td>\n",
       "    </tr>\n",
       "    <tr>\n",
       "      <td>2</td>\n",
       "      <td>2015-12-31 23:59:29</td>\n",
       "      <td>2016-01-01 04:51:00</td>\n",
       "      <td>Blocked Driveway</td>\n",
       "      <td>No Access</td>\n",
       "      <td>Street/Sidewalk</td>\n",
       "      <td>10458.0</td>\n",
       "      <td>BRONX</td>\n",
       "      <td>Closed</td>\n",
       "      <td>01-01-16 7:59</td>\n",
       "      <td>01-01-16 4:51</td>\n",
       "      <td>BRONX</td>\n",
       "      <td>BRONX</td>\n",
       "      <td>04:51:31</td>\n",
       "    </tr>\n",
       "    <tr>\n",
       "      <td>3</td>\n",
       "      <td>2015-12-31 23:57:46</td>\n",
       "      <td>2016-01-01 07:43:00</td>\n",
       "      <td>Illegal Parking</td>\n",
       "      <td>Commercial Overnight Parking</td>\n",
       "      <td>Street/Sidewalk</td>\n",
       "      <td>10461.0</td>\n",
       "      <td>BRONX</td>\n",
       "      <td>Closed</td>\n",
       "      <td>01-01-16 7:57</td>\n",
       "      <td>01-01-16 7:43</td>\n",
       "      <td>BRONX</td>\n",
       "      <td>BRONX</td>\n",
       "      <td>07:45:14</td>\n",
       "    </tr>\n",
       "    <tr>\n",
       "      <td>4</td>\n",
       "      <td>2015-12-31 23:56:58</td>\n",
       "      <td>2016-01-01 03:24:00</td>\n",
       "      <td>Illegal Parking</td>\n",
       "      <td>Blocked Sidewalk</td>\n",
       "      <td>Street/Sidewalk</td>\n",
       "      <td>11373.0</td>\n",
       "      <td>ELMHURST</td>\n",
       "      <td>Closed</td>\n",
       "      <td>01-01-16 7:56</td>\n",
       "      <td>01-01-16 3:24</td>\n",
       "      <td>QUEENS</td>\n",
       "      <td>QUEENS</td>\n",
       "      <td>03:27:02</td>\n",
       "    </tr>\n",
       "    <tr>\n",
       "      <td>...</td>\n",
       "      <td>...</td>\n",
       "      <td>...</td>\n",
       "      <td>...</td>\n",
       "      <td>...</td>\n",
       "      <td>...</td>\n",
       "      <td>...</td>\n",
       "      <td>...</td>\n",
       "      <td>...</td>\n",
       "      <td>...</td>\n",
       "      <td>...</td>\n",
       "      <td>...</td>\n",
       "      <td>...</td>\n",
       "      <td>...</td>\n",
       "    </tr>\n",
       "    <tr>\n",
       "      <td>300692</td>\n",
       "      <td>2015-03-29 00:34:32</td>\n",
       "      <td>2015-03-29 01:13:01</td>\n",
       "      <td>Noise - Commercial</td>\n",
       "      <td>Loud Music/Party</td>\n",
       "      <td>Store/Commercial</td>\n",
       "      <td>10002.0</td>\n",
       "      <td>NEW YORK</td>\n",
       "      <td>Closed</td>\n",
       "      <td>03/29/2015 08:34:32 AM</td>\n",
       "      <td>03/29/2015 01:13:01 AM</td>\n",
       "      <td>MANHATTAN</td>\n",
       "      <td>MANHATTAN</td>\n",
       "      <td>00:38:29</td>\n",
       "    </tr>\n",
       "    <tr>\n",
       "      <td>300694</td>\n",
       "      <td>2015-03-29 00:33:28</td>\n",
       "      <td>2015-03-29 02:33:59</td>\n",
       "      <td>Blocked Driveway</td>\n",
       "      <td>Partial Access</td>\n",
       "      <td>Street/Sidewalk</td>\n",
       "      <td>11418.0</td>\n",
       "      <td>RICHMOND HILL</td>\n",
       "      <td>Closed</td>\n",
       "      <td>03/29/2015 08:33:28 AM</td>\n",
       "      <td>03/29/2015 02:33:59 AM</td>\n",
       "      <td>QUEENS</td>\n",
       "      <td>QUEENS</td>\n",
       "      <td>02:00:31</td>\n",
       "    </tr>\n",
       "    <tr>\n",
       "      <td>300695</td>\n",
       "      <td>2015-03-29 00:33:03</td>\n",
       "      <td>2015-03-29 03:40:20</td>\n",
       "      <td>Noise - Commercial</td>\n",
       "      <td>Loud Music/Party</td>\n",
       "      <td>Club/Bar/Restaurant</td>\n",
       "      <td>11206.0</td>\n",
       "      <td>BROOKLYN</td>\n",
       "      <td>Closed</td>\n",
       "      <td>03/29/2015 08:33:03 AM</td>\n",
       "      <td>03/29/2015 03:40:20 AM</td>\n",
       "      <td>BROOKLYN</td>\n",
       "      <td>BROOKLYN</td>\n",
       "      <td>03:07:17</td>\n",
       "    </tr>\n",
       "    <tr>\n",
       "      <td>300696</td>\n",
       "      <td>2015-03-29 00:33:02</td>\n",
       "      <td>2015-03-29 04:38:35</td>\n",
       "      <td>Noise - Commercial</td>\n",
       "      <td>Loud Music/Party</td>\n",
       "      <td>Club/Bar/Restaurant</td>\n",
       "      <td>10461.0</td>\n",
       "      <td>BRONX</td>\n",
       "      <td>Closed</td>\n",
       "      <td>03/29/2015 08:33:02 AM</td>\n",
       "      <td>03/29/2015 04:38:35 AM</td>\n",
       "      <td>BRONX</td>\n",
       "      <td>BRONX</td>\n",
       "      <td>04:05:33</td>\n",
       "    </tr>\n",
       "    <tr>\n",
       "      <td>300697</td>\n",
       "      <td>2015-03-29 00:33:01</td>\n",
       "      <td>2015-03-29 04:41:50</td>\n",
       "      <td>Noise - Commercial</td>\n",
       "      <td>Loud Music/Party</td>\n",
       "      <td>Store/Commercial</td>\n",
       "      <td>10036.0</td>\n",
       "      <td>NEW YORK</td>\n",
       "      <td>Closed</td>\n",
       "      <td>03/29/2015 08:33:01 AM</td>\n",
       "      <td>03/29/2015 04:41:50 AM</td>\n",
       "      <td>MANHATTAN</td>\n",
       "      <td>MANHATTAN</td>\n",
       "      <td>04:08:49</td>\n",
       "    </tr>\n",
       "  </tbody>\n",
       "</table>\n",
       "<p>297962 rows × 13 columns</p>\n",
       "</div>"
      ],
      "text/plain": [
       "              Created Date         Closed Date           Complaint Type  \\\n",
       "0      2015-12-31 23:59:45 2016-01-01 00:55:00  Noise - Street/Sidewalk   \n",
       "1      2015-12-31 23:59:44 2016-01-01 01:26:00         Blocked Driveway   \n",
       "2      2015-12-31 23:59:29 2016-01-01 04:51:00         Blocked Driveway   \n",
       "3      2015-12-31 23:57:46 2016-01-01 07:43:00          Illegal Parking   \n",
       "4      2015-12-31 23:56:58 2016-01-01 03:24:00          Illegal Parking   \n",
       "...                    ...                 ...                      ...   \n",
       "300692 2015-03-29 00:34:32 2015-03-29 01:13:01       Noise - Commercial   \n",
       "300694 2015-03-29 00:33:28 2015-03-29 02:33:59         Blocked Driveway   \n",
       "300695 2015-03-29 00:33:03 2015-03-29 03:40:20       Noise - Commercial   \n",
       "300696 2015-03-29 00:33:02 2015-03-29 04:38:35       Noise - Commercial   \n",
       "300697 2015-03-29 00:33:01 2015-03-29 04:41:50       Noise - Commercial   \n",
       "\n",
       "                          Descriptor        Location Type  Incident Zip  \\\n",
       "0                   Loud Music/Party      Street/Sidewalk       10034.0   \n",
       "1                          No Access      Street/Sidewalk       11105.0   \n",
       "2                          No Access      Street/Sidewalk       10458.0   \n",
       "3       Commercial Overnight Parking      Street/Sidewalk       10461.0   \n",
       "4                   Blocked Sidewalk      Street/Sidewalk       11373.0   \n",
       "...                              ...                  ...           ...   \n",
       "300692              Loud Music/Party     Store/Commercial       10002.0   \n",
       "300694                Partial Access      Street/Sidewalk       11418.0   \n",
       "300695              Loud Music/Party  Club/Bar/Restaurant       11206.0   \n",
       "300696              Loud Music/Party  Club/Bar/Restaurant       10461.0   \n",
       "300697              Loud Music/Party     Store/Commercial       10036.0   \n",
       "\n",
       "                 City  Status                Due Date  \\\n",
       "0            NEW YORK  Closed           01-01-16 7:59   \n",
       "1             ASTORIA  Closed           01-01-16 7:59   \n",
       "2               BRONX  Closed           01-01-16 7:59   \n",
       "3               BRONX  Closed           01-01-16 7:57   \n",
       "4            ELMHURST  Closed           01-01-16 7:56   \n",
       "...               ...     ...                     ...   \n",
       "300692       NEW YORK  Closed  03/29/2015 08:34:32 AM   \n",
       "300694  RICHMOND HILL  Closed  03/29/2015 08:33:28 AM   \n",
       "300695       BROOKLYN  Closed  03/29/2015 08:33:03 AM   \n",
       "300696          BRONX  Closed  03/29/2015 08:33:02 AM   \n",
       "300697       NEW YORK  Closed  03/29/2015 08:33:01 AM   \n",
       "\n",
       "       Resolution Action Updated Date    Borough Park Borough  \\\n",
       "0                       01-01-16 0:55  MANHATTAN    MANHATTAN   \n",
       "1                       01-01-16 1:26     QUEENS       QUEENS   \n",
       "2                       01-01-16 4:51      BRONX        BRONX   \n",
       "3                       01-01-16 7:43      BRONX        BRONX   \n",
       "4                       01-01-16 3:24     QUEENS       QUEENS   \n",
       "...                               ...        ...          ...   \n",
       "300692         03/29/2015 01:13:01 AM  MANHATTAN    MANHATTAN   \n",
       "300694         03/29/2015 02:33:59 AM     QUEENS       QUEENS   \n",
       "300695         03/29/2015 03:40:20 AM   BROOKLYN     BROOKLYN   \n",
       "300696         03/29/2015 04:38:35 AM      BRONX        BRONX   \n",
       "300697         03/29/2015 04:41:50 AM  MANHATTAN    MANHATTAN   \n",
       "\n",
       "       Request_Closing_Time  \n",
       "0                  00:55:15  \n",
       "1                  01:26:16  \n",
       "2                  04:51:31  \n",
       "3                  07:45:14  \n",
       "4                  03:27:02  \n",
       "...                     ...  \n",
       "300692             00:38:29  \n",
       "300694             02:00:31  \n",
       "300695             03:07:17  \n",
       "300696             04:05:33  \n",
       "300697             04:08:49  \n",
       "\n",
       "[297962 rows x 13 columns]"
      ]
     },
     "execution_count": 19,
     "metadata": {},
     "output_type": "execute_result"
    }
   ],
   "source": [
    "df_processed"
   ]
  },
  {
   "cell_type": "markdown",
   "metadata": {},
   "source": [
    "### Major insights/patterns in a visual format (graphs or tables)"
   ]
  },
  {
   "cell_type": "markdown",
   "metadata": {},
   "source": [
    "#### 1. The maximum time taken to close a complaint raised is less than 3 secs"
   ]
  },
  {
   "cell_type": "code",
   "execution_count": 20,
   "metadata": {
    "id": "HuBCprNTmMFm"
   },
   "outputs": [
    {
     "name": "stderr",
     "output_type": "stream",
     "text": [
      "C:\\Users\\hpups\\Anaconda3\\lib\\site-packages\\IPython\\core\\pylabtools.py:128: UserWarning: Creating legend with loc=\"best\" can be slow with large amounts of data.\n",
      "  fig.canvas.print_figure(bytes_io, **kw)\n"
     ]
    },
    {
     "data": {
      "image/png": "[encoded data removed]",
      "text/plain": [
       "<Figure size 576x576 with 1 Axes>"
      ]
     },
     "metadata": {
      "needs_background": "light"
     },
     "output_type": "display_data"
    }
   ],
   "source": [
    "plt.figure(figsize=(8,8))\n",
    "plt.plot(df_processed['Request_Closing_Time'],color ='r',label = 'Time', linewidth = 2, dash_capstyle = 'projecting', marker='.')\n",
    "plt.xlabel(\"Total Number of Tickets\")\n",
    "plt.ylabel(\"Total Time Elapsed\")\n",
    "plt.title(\"Understanding Time Taken to Close a Ticket\")\n",
    "plt.legend()\n",
    "plt.show()"
   ]
  },
  {
   "cell_type": "code",
   "execution_count": 21,
   "metadata": {
    "id": "4DcAd-kPmWqL",
    "scrolled": true
   },
   "outputs": [
    {
     "name": "stdout",
     "output_type": "stream",
     "text": [
      "BROOKLYN         98263\n",
      "QUEENS           80596\n",
      "MANHATTAN        66079\n",
      "BRONX            40688\n",
      "STATEN ISLAND    12335\n",
      "Unspecified          1\n",
      "Name: Borough, dtype: int64\n"
     ]
    }
   ],
   "source": [
    "borough = df_processed['Borough'].unique()\n",
    "\n",
    "print(df_processed['Borough'].value_counts())"
   ]
  },
  {
   "cell_type": "markdown",
   "metadata": {},
   "source": [
    "#### 2. Understanding the distribution of complaints raised - Borough wise"
   ]
  },
  {
   "cell_type": "code",
   "execution_count": 22,
   "metadata": {
    "id": "q053YQxAmrc-"
   },
   "outputs": [
    {
     "data": {
      "text/plain": [
       "Text(0.5, 1.0, 'Number of complaints Raised Borough-Wise')"
      ]
     },
     "execution_count": 22,
     "metadata": {},
     "output_type": "execute_result"
    },
    {
     "data": {
      "image/png": "[encoded data removed]",
      "text/plain": [
       "<Figure size 432x432 with 1 Axes>"
      ]
     },
     "metadata": {},
     "output_type": "display_data"
    }
   ],
   "source": [
    "plt.figure(figsize=(6,6))\n",
    "explode=(0.05,0.05,0,0,0,0)\n",
    "plt.pie(df_processed['Borough'].value_counts(), labels=borough, explode = explode, autopct='%1.0f%%')\n",
    "plt.title(\"Number of complaints Raised Borough-Wise\")"
   ]
  },
  {
   "cell_type": "markdown",
   "metadata": {},
   "source": [
    "#### 3. Understanding the cities from where maximum complaints are raised"
   ]
  },
  {
   "cell_type": "code",
   "execution_count": 23,
   "metadata": {
    "id": "KFcAQjrGojgK"
   },
   "outputs": [
    {
     "data": {
      "image/png": "[encoded data removed]",
      "text/plain": [
       "<Figure size 360x360 with 1 Axes>"
      ]
     },
     "metadata": {
      "needs_background": "light"
     },
     "output_type": "display_data"
    }
   ],
   "source": [
    "df_processed['City'].value_counts().head(10).plot(kind='bar',figsize=(5,5));"
   ]
  },
  {
   "cell_type": "markdown",
   "metadata": {},
   "source": [
    "#### 4. Understanding the Status Distribution of the complaints raised"
   ]
  },
  {
   "cell_type": "code",
   "execution_count": 24,
   "metadata": {},
   "outputs": [
    {
     "data": {
      "image/png": "[encoded data removed]",
      "text/plain": [
       "<Figure size 504x504 with 1 Axes>"
      ]
     },
     "metadata": {
      "needs_background": "light"
     },
     "output_type": "display_data"
    }
   ],
   "source": [
    "df_processed['Status'].value_counts().plot(kind='bar',alpha=0.6,figsize=(7,7))\n",
    "plt.show()"
   ]
  },
  {
   "cell_type": "markdown",
   "metadata": {},
   "source": [
    "#### 5. Understanding the frequency of complaint types raised"
   ]
  },
  {
   "cell_type": "code",
   "execution_count": 25,
   "metadata": {
    "scrolled": true
   },
   "outputs": [
    {
     "data": {
      "text/plain": [
       "<matplotlib.axes._subplots.AxesSubplot at 0x1959b487dc8>"
      ]
     },
     "execution_count": 25,
     "metadata": {},
     "output_type": "execute_result"
    },
    {
     "data": {
      "image/png": "[encoded data removed]",
      "text/plain": [
       "<Figure size 360x360 with 1 Axes>"
      ]
     },
     "metadata": {
      "needs_background": "light"
     },
     "output_type": "display_data"
    }
   ],
   "source": [
    "df_processed['Complaint Type'].value_counts().head(10).plot(kind='bar',figsize=(5,5))"
   ]
  },
  {
   "cell_type": "markdown",
   "metadata": {},
   "source": [
    "### Ordering the complaint types based on the average ‘Request_Closing_Time’ and grouping them for different locations."
   ]
  },
  {
   "cell_type": "code",
   "execution_count": 26,
   "metadata": {},
   "outputs": [],
   "source": [
    "complainttypes_locationwise = pd.DataFrame({'Count':df_processed.groupby(['City','Complaint Type','Request_Closing_Time']).size()}).reset_index()"
   ]
  },
  {
   "cell_type": "code",
   "execution_count": 27,
   "metadata": {
    "scrolled": true
   },
   "outputs": [
    {
     "data": {
      "text/html": [
       "<div>\n",
       "<style scoped>\n",
       "    .dataframe tbody tr th:only-of-type {\n",
       "        vertical-align: middle;\n",
       "    }\n",
       "\n",
       "    .dataframe tbody tr th {\n",
       "        vertical-align: top;\n",
       "    }\n",
       "\n",
       "    .dataframe thead th {\n",
       "        text-align: right;\n",
       "    }\n",
       "</style>\n",
       "<table border=\"1\" class=\"dataframe\">\n",
       "  <thead>\n",
       "    <tr style=\"text-align: right;\">\n",
       "      <th></th>\n",
       "      <th>City</th>\n",
       "      <th>Complaint Type</th>\n",
       "      <th>Request_Closing_Time</th>\n",
       "      <th>Count</th>\n",
       "    </tr>\n",
       "  </thead>\n",
       "  <tbody>\n",
       "    <tr>\n",
       "      <td>0</td>\n",
       "      <td>ARVERNE</td>\n",
       "      <td>Animal Abuse</td>\n",
       "      <td>00:29:00</td>\n",
       "      <td>1</td>\n",
       "    </tr>\n",
       "    <tr>\n",
       "      <td>1</td>\n",
       "      <td>ARVERNE</td>\n",
       "      <td>Animal Abuse</td>\n",
       "      <td>00:41:00</td>\n",
       "      <td>1</td>\n",
       "    </tr>\n",
       "    <tr>\n",
       "      <td>2</td>\n",
       "      <td>ARVERNE</td>\n",
       "      <td>Animal Abuse</td>\n",
       "      <td>00:46:00</td>\n",
       "      <td>1</td>\n",
       "    </tr>\n",
       "    <tr>\n",
       "      <td>3</td>\n",
       "      <td>ARVERNE</td>\n",
       "      <td>Animal Abuse</td>\n",
       "      <td>00:51:09</td>\n",
       "      <td>1</td>\n",
       "    </tr>\n",
       "    <tr>\n",
       "      <td>4</td>\n",
       "      <td>ARVERNE</td>\n",
       "      <td>Animal Abuse</td>\n",
       "      <td>00:52:38</td>\n",
       "      <td>1</td>\n",
       "    </tr>\n",
       "    <tr>\n",
       "      <td>...</td>\n",
       "      <td>...</td>\n",
       "      <td>...</td>\n",
       "      <td>...</td>\n",
       "      <td>...</td>\n",
       "    </tr>\n",
       "    <tr>\n",
       "      <td>206093</td>\n",
       "      <td>Woodside</td>\n",
       "      <td>Noise - Street/Sidewalk</td>\n",
       "      <td>02:53:05</td>\n",
       "      <td>1</td>\n",
       "    </tr>\n",
       "    <tr>\n",
       "      <td>206094</td>\n",
       "      <td>Woodside</td>\n",
       "      <td>Noise - Street/Sidewalk</td>\n",
       "      <td>03:02:25</td>\n",
       "      <td>1</td>\n",
       "    </tr>\n",
       "    <tr>\n",
       "      <td>206095</td>\n",
       "      <td>Woodside</td>\n",
       "      <td>Noise - Street/Sidewalk</td>\n",
       "      <td>03:06:00</td>\n",
       "      <td>1</td>\n",
       "    </tr>\n",
       "    <tr>\n",
       "      <td>206096</td>\n",
       "      <td>Woodside</td>\n",
       "      <td>Noise - Street/Sidewalk</td>\n",
       "      <td>03:10:00</td>\n",
       "      <td>1</td>\n",
       "    </tr>\n",
       "    <tr>\n",
       "      <td>206097</td>\n",
       "      <td>Woodside</td>\n",
       "      <td>Noise - Street/Sidewalk</td>\n",
       "      <td>04:51:53</td>\n",
       "      <td>1</td>\n",
       "    </tr>\n",
       "  </tbody>\n",
       "</table>\n",
       "<p>206098 rows × 4 columns</p>\n",
       "</div>"
      ],
      "text/plain": [
       "            City           Complaint Type Request_Closing_Time  Count\n",
       "0        ARVERNE             Animal Abuse             00:29:00      1\n",
       "1        ARVERNE             Animal Abuse             00:41:00      1\n",
       "2        ARVERNE             Animal Abuse             00:46:00      1\n",
       "3        ARVERNE             Animal Abuse             00:51:09      1\n",
       "4        ARVERNE             Animal Abuse             00:52:38      1\n",
       "...          ...                      ...                  ...    ...\n",
       "206093  Woodside  Noise - Street/Sidewalk             02:53:05      1\n",
       "206094  Woodside  Noise - Street/Sidewalk             03:02:25      1\n",
       "206095  Woodside  Noise - Street/Sidewalk             03:06:00      1\n",
       "206096  Woodside  Noise - Street/Sidewalk             03:10:00      1\n",
       "206097  Woodside  Noise - Street/Sidewalk             04:51:53      1\n",
       "\n",
       "[206098 rows x 4 columns]"
      ]
     },
     "execution_count": 27,
     "metadata": {},
     "output_type": "execute_result"
    }
   ],
   "source": [
    "complainttypes_locationwise"
   ]
  },
  {
   "cell_type": "code",
   "execution_count": 28,
   "metadata": {},
   "outputs": [],
   "source": [
    "def toHr(timeDel):\n",
    "    days = timeDel.days\n",
    "    hours = round(timeDel.seconds/3600, 2)\n",
    "    result = (days * 24) + hours\n",
    "    #print(days)\n",
    "    #print(hours)\n",
    "    return result"
   ]
  },
  {
   "cell_type": "code",
   "execution_count": 29,
   "metadata": {
    "scrolled": true
   },
   "outputs": [],
   "source": [
    "complainttypes_locationwise['Request_Closing_Time'] = complainttypes_locationwise['Request_Closing_Time'].apply(toHr)"
   ]
  },
  {
   "cell_type": "code",
   "execution_count": 30,
   "metadata": {},
   "outputs": [],
   "source": [
    "data_grouped = complainttypes_locationwise.groupby(['City','Complaint Type']).agg({'Request_Closing_Time': 'mean'})"
   ]
  },
  {
   "cell_type": "code",
   "execution_count": 31,
   "metadata": {
    "scrolled": false
   },
   "outputs": [
    {
     "data": {
      "text/html": [
       "<div>\n",
       "<style scoped>\n",
       "    .dataframe tbody tr th:only-of-type {\n",
       "        vertical-align: middle;\n",
       "    }\n",
       "\n",
       "    .dataframe tbody tr th {\n",
       "        vertical-align: top;\n",
       "    }\n",
       "\n",
       "    .dataframe thead th {\n",
       "        text-align: right;\n",
       "    }\n",
       "</style>\n",
       "<table border=\"1\" class=\"dataframe\">\n",
       "  <thead>\n",
       "    <tr style=\"text-align: right;\">\n",
       "      <th></th>\n",
       "      <th></th>\n",
       "      <th>Request_Closing_Time</th>\n",
       "    </tr>\n",
       "    <tr>\n",
       "      <th>City</th>\n",
       "      <th>Complaint Type</th>\n",
       "      <th></th>\n",
       "    </tr>\n",
       "  </thead>\n",
       "  <tbody>\n",
       "    <tr>\n",
       "      <td rowspan=\"16\" valign=\"top\">ARVERNE</td>\n",
       "      <td>Animal Abuse</td>\n",
       "      <td>2.153158</td>\n",
       "    </tr>\n",
       "    <tr>\n",
       "      <td>Blocked Driveway</td>\n",
       "      <td>2.526000</td>\n",
       "    </tr>\n",
       "    <tr>\n",
       "      <td>Derelict Vehicle</td>\n",
       "      <td>2.968889</td>\n",
       "    </tr>\n",
       "    <tr>\n",
       "      <td>Disorderly Youth</td>\n",
       "      <td>3.595000</td>\n",
       "    </tr>\n",
       "    <tr>\n",
       "      <td>Drinking</td>\n",
       "      <td>0.240000</td>\n",
       "    </tr>\n",
       "    <tr>\n",
       "      <td>Graffiti</td>\n",
       "      <td>1.530000</td>\n",
       "    </tr>\n",
       "    <tr>\n",
       "      <td>Homeless Encampment</td>\n",
       "      <td>1.812500</td>\n",
       "    </tr>\n",
       "    <tr>\n",
       "      <td>Illegal Parking</td>\n",
       "      <td>2.336667</td>\n",
       "    </tr>\n",
       "    <tr>\n",
       "      <td>Noise - Commercial</td>\n",
       "      <td>2.285000</td>\n",
       "    </tr>\n",
       "    <tr>\n",
       "      <td>Noise - House of Worship</td>\n",
       "      <td>1.562727</td>\n",
       "    </tr>\n",
       "    <tr>\n",
       "      <td>Noise - Park</td>\n",
       "      <td>1.285000</td>\n",
       "    </tr>\n",
       "    <tr>\n",
       "      <td>Noise - Street/Sidewalk</td>\n",
       "      <td>1.992759</td>\n",
       "    </tr>\n",
       "    <tr>\n",
       "      <td>Noise - Vehicle</td>\n",
       "      <td>1.860000</td>\n",
       "    </tr>\n",
       "    <tr>\n",
       "      <td>Panhandling</td>\n",
       "      <td>1.030000</td>\n",
       "    </tr>\n",
       "    <tr>\n",
       "      <td>Urinating in Public</td>\n",
       "      <td>0.690000</td>\n",
       "    </tr>\n",
       "    <tr>\n",
       "      <td>Vending</td>\n",
       "      <td>0.480000</td>\n",
       "    </tr>\n",
       "    <tr>\n",
       "      <td rowspan=\"14\" valign=\"top\">ASTORIA</td>\n",
       "      <td>Animal Abuse</td>\n",
       "      <td>5.031951</td>\n",
       "    </tr>\n",
       "    <tr>\n",
       "      <td>Bike/Roller/Skate Chronic</td>\n",
       "      <td>1.740667</td>\n",
       "    </tr>\n",
       "    <tr>\n",
       "      <td>Blocked Driveway</td>\n",
       "      <td>5.255195</td>\n",
       "    </tr>\n",
       "    <tr>\n",
       "      <td>Derelict Vehicle</td>\n",
       "      <td>9.805322</td>\n",
       "    </tr>\n",
       "    <tr>\n",
       "      <td>Disorderly Youth</td>\n",
       "      <td>2.903333</td>\n",
       "    </tr>\n",
       "    <tr>\n",
       "      <td>Drinking</td>\n",
       "      <td>4.722571</td>\n",
       "    </tr>\n",
       "    <tr>\n",
       "      <td>Graffiti</td>\n",
       "      <td>14.097500</td>\n",
       "    </tr>\n",
       "    <tr>\n",
       "      <td>Homeless Encampment</td>\n",
       "      <td>4.980645</td>\n",
       "    </tr>\n",
       "    <tr>\n",
       "      <td>Illegal Fireworks</td>\n",
       "      <td>2.772500</td>\n",
       "    </tr>\n",
       "    <tr>\n",
       "      <td>Illegal Parking</td>\n",
       "      <td>5.073305</td>\n",
       "    </tr>\n",
       "    <tr>\n",
       "      <td>Noise - Commercial</td>\n",
       "      <td>3.353806</td>\n",
       "    </tr>\n",
       "    <tr>\n",
       "      <td>Noise - House of Worship</td>\n",
       "      <td>2.022632</td>\n",
       "    </tr>\n",
       "    <tr>\n",
       "      <td>Noise - Park</td>\n",
       "      <td>3.034333</td>\n",
       "    </tr>\n",
       "    <tr>\n",
       "      <td>Noise - Street/Sidewalk</td>\n",
       "      <td>3.530782</td>\n",
       "    </tr>\n",
       "  </tbody>\n",
       "</table>\n",
       "</div>"
      ],
      "text/plain": [
       "                                   Request_Closing_Time\n",
       "City    Complaint Type                                 \n",
       "ARVERNE Animal Abuse                           2.153158\n",
       "        Blocked Driveway                       2.526000\n",
       "        Derelict Vehicle                       2.968889\n",
       "        Disorderly Youth                       3.595000\n",
       "        Drinking                               0.240000\n",
       "        Graffiti                               1.530000\n",
       "        Homeless Encampment                    1.812500\n",
       "        Illegal Parking                        2.336667\n",
       "        Noise - Commercial                     2.285000\n",
       "        Noise - House of Worship               1.562727\n",
       "        Noise - Park                           1.285000\n",
       "        Noise - Street/Sidewalk                1.992759\n",
       "        Noise - Vehicle                        1.860000\n",
       "        Panhandling                            1.030000\n",
       "        Urinating in Public                    0.690000\n",
       "        Vending                                0.480000\n",
       "ASTORIA Animal Abuse                           5.031951\n",
       "        Bike/Roller/Skate Chronic              1.740667\n",
       "        Blocked Driveway                       5.255195\n",
       "        Derelict Vehicle                       9.805322\n",
       "        Disorderly Youth                       2.903333\n",
       "        Drinking                               4.722571\n",
       "        Graffiti                              14.097500\n",
       "        Homeless Encampment                    4.980645\n",
       "        Illegal Fireworks                      2.772500\n",
       "        Illegal Parking                        5.073305\n",
       "        Noise - Commercial                     3.353806\n",
       "        Noise - House of Worship               2.022632\n",
       "        Noise - Park                           3.034333\n",
       "        Noise - Street/Sidewalk                3.530782"
      ]
     },
     "execution_count": 31,
     "metadata": {},
     "output_type": "execute_result"
    }
   ],
   "source": [
    "data_grouped.head(30)"
   ]
  },
  {
   "cell_type": "markdown",
   "metadata": {},
   "source": [
    "### STATISTICAL TEST: Understanding Whether the average response time across complaint types is similar or not (overall)"
   ]
  },
  {
   "cell_type": "code",
   "execution_count": 32,
   "metadata": {},
   "outputs": [
    {
     "name": "stdout",
     "output_type": "stream",
     "text": [
      "Blocked Driveway           76724\n",
      "Illegal Parking            74283\n",
      "Noise - Street/Sidewalk    47991\n",
      "Noise - Commercial         35195\n",
      "Derelict Vehicle           17539\n",
      "Name: Complaint Type, dtype: int64\n",
      "Index(['Blocked Driveway', 'Illegal Parking', 'Noise - Street/Sidewalk',\n",
      "       'Noise - Commercial', 'Derelict Vehicle'],\n",
      "      dtype='object')\n",
      "0         True\n",
      "1         True\n",
      "2         True\n",
      "3         True\n",
      "4         True\n",
      "          ... \n",
      "300692    True\n",
      "300694    True\n",
      "300695    True\n",
      "300696    True\n",
      "300697    True\n",
      "Name: Complaint Type, Length: 297962, dtype: bool\n",
      "                 Complaint Type Request_Closing_Time\n",
      "0       Noise - Street/Sidewalk             00:55:15\n",
      "1              Blocked Driveway             01:26:16\n",
      "2              Blocked Driveway             04:51:31\n",
      "3               Illegal Parking             07:45:14\n",
      "4               Illegal Parking             03:27:02\n",
      "...                         ...                  ...\n",
      "300692       Noise - Commercial             00:38:29\n",
      "300694         Blocked Driveway             02:00:31\n",
      "300695       Noise - Commercial             03:07:17\n",
      "300696       Noise - Commercial             04:05:33\n",
      "300697       Noise - Commercial             04:08:49\n",
      "\n",
      "[251732 rows x 2 columns]\n",
      "1    01:26:16\n",
      "2    04:51:31\n",
      "7    01:47:55\n",
      "9    01:23:02\n",
      "10   07:48:02\n",
      "Name: Request_Closing_Time, dtype: timedelta64[ns]\n",
      "3   07:45:14\n",
      "4   03:27:02\n",
      "5   01:53:30\n",
      "6   01:57:28\n",
      "8   08:33:02\n",
      "Name: Request_Closing_Time, dtype: timedelta64[ns]\n",
      "0    00:55:15\n",
      "12   02:28:57\n",
      "19   00:47:05\n",
      "38   00:29:28\n",
      "54   01:29:44\n",
      "Name: Request_Closing_Time, dtype: timedelta64[ns]\n",
      "17   00:51:08\n",
      "18   02:56:01\n",
      "22   01:15:42\n",
      "29   02:29:59\n",
      "30   01:59:09\n",
      "Name: Request_Closing_Time, dtype: timedelta64[ns]\n",
      "14    10:29:23\n",
      "151   03:57:01\n",
      "255   01:21:53\n",
      "256   04:07:59\n",
      "295   00:45:12\n",
      "Name: Request_Closing_Time, dtype: timedelta64[ns]\n",
      "F_onewayResult(statistic=1796.8525445904843, pvalue=0.0)\n"
     ]
    }
   ],
   "source": [
    "import scipy.stats as stats\n",
    "from math import sqrt\n",
    "top5_complaints_type = df_processed['Complaint Type'].value_counts()[:5]\n",
    "print(top5_complaints_type)\n",
    "top5_complaints_type_names = top5_complaints_type.index\n",
    "\n",
    "print(top5_complaints_type_names)\n",
    "print(df_processed['Complaint Type'].isin(top5_complaints_type_names))\n",
    "\n",
    "sample_data = df_processed.loc[df_processed['Complaint Type'].isin(top5_complaints_type_names), ['Complaint Type', 'Request_Closing_Time']]\n",
    "sample_data.head()\n",
    "sample_data.dropna(how='any', inplace=True)\n",
    "sample_data.isnull().sum()\n",
    "print(sample_data)\n",
    "\n",
    "s1 = sample_data[sample_data['Complaint Type'] == top5_complaints_type_names[0]].Request_Closing_Time\n",
    "print(s1.head())\n",
    "\n",
    "s2 = sample_data[sample_data['Complaint Type'] == top5_complaints_type_names[1]].Request_Closing_Time\n",
    "print(s2.head())\n",
    "\n",
    "s3 = sample_data[sample_data['Complaint Type'] == top5_complaints_type_names[2]].Request_Closing_Time\n",
    "print(s3.head())\n",
    "\n",
    "s4 = sample_data[sample_data['Complaint Type'] == top5_complaints_type_names[3]].Request_Closing_Time\n",
    "print(s4.head())\n",
    "\n",
    "s5 = sample_data[sample_data['Complaint Type'] == top5_complaints_type_names[4]].Request_Closing_Time\n",
    "print(s5.head())\n",
    "\n",
    "print(stats.f_oneway(s1, s2, s3, s4, s5))"
   ]
  },
  {
   "cell_type": "markdown",
   "metadata": {},
   "source": [
    "### STATISTICAL TEST: Understanding if Complaint Types are location related:"
   ]
  },
  {
   "cell_type": "markdown",
   "metadata": {},
   "source": [
    "##### Null Hypothesis (H0): Complaint types & Location are not related.\n",
    "##### Alternate Hypothesis (H1): Complaint types & Location are related."
   ]
  },
  {
   "cell_type": "code",
   "execution_count": 69,
   "metadata": {},
   "outputs": [],
   "source": [
    "top_ten_complaint_types = df_processed['Complaint Type'].value_counts()[:10]"
   ]
  },
  {
   "cell_type": "code",
   "execution_count": 70,
   "metadata": {},
   "outputs": [
    {
     "data": {
      "text/plain": [
       "Blocked Driveway           76724\n",
       "Illegal Parking            74283\n",
       "Noise - Street/Sidewalk    47991\n",
       "Noise - Commercial         35195\n",
       "Derelict Vehicle           17539\n",
       "Noise - Vehicle            17026\n",
       "Animal Abuse                7764\n",
       "Traffic                     4490\n",
       "Homeless Encampment         4406\n",
       "Noise - Park                4015\n",
       "Name: Complaint Type, dtype: int64"
      ]
     },
     "execution_count": 70,
     "metadata": {},
     "output_type": "execute_result"
    }
   ],
   "source": [
    "top_ten_complaint_types"
   ]
  },
  {
   "cell_type": "code",
   "execution_count": 71,
   "metadata": {},
   "outputs": [],
   "source": [
    "top_ten_complaint_types_name = top_ten_complaint_types.index"
   ]
  },
  {
   "cell_type": "code",
   "execution_count": 72,
   "metadata": {},
   "outputs": [
    {
     "data": {
      "text/plain": [
       "Index(['Blocked Driveway', 'Illegal Parking', 'Noise - Street/Sidewalk',\n",
       "       'Noise - Commercial', 'Derelict Vehicle', 'Noise - Vehicle',\n",
       "       'Animal Abuse', 'Traffic', 'Homeless Encampment', 'Noise - Park'],\n",
       "      dtype='object')"
      ]
     },
     "execution_count": 72,
     "metadata": {},
     "output_type": "execute_result"
    }
   ],
   "source": [
    "top_ten_complaint_types_name"
   ]
  },
  {
   "cell_type": "code",
   "execution_count": 73,
   "metadata": {},
   "outputs": [],
   "source": [
    "top_ten_city_names = df_processed['City'].value_counts()[:10]"
   ]
  },
  {
   "cell_type": "code",
   "execution_count": 74,
   "metadata": {
    "scrolled": true
   },
   "outputs": [
    {
     "data": {
      "text/plain": [
       "BROOKLYN         98263\n",
       "NEW YORK         65979\n",
       "BRONX            40688\n",
       "STATEN ISLAND    12337\n",
       "JAMAICA           7288\n",
       "ASTORIA           6330\n",
       "FLUSHING          5966\n",
       "RIDGEWOOD         5163\n",
       "CORONA            4293\n",
       "WOODSIDE          3541\n",
       "Name: City, dtype: int64"
      ]
     },
     "execution_count": 74,
     "metadata": {},
     "output_type": "execute_result"
    }
   ],
   "source": [
    "top_five_city_names"
   ]
  },
  {
   "cell_type": "code",
   "execution_count": 75,
   "metadata": {},
   "outputs": [],
   "source": [
    "top_ten_city_names_values = top_five_city_names.index"
   ]
  },
  {
   "cell_type": "code",
   "execution_count": 76,
   "metadata": {},
   "outputs": [
    {
     "data": {
      "text/plain": [
       "Index(['BROOKLYN', 'NEW YORK', 'BRONX', 'STATEN ISLAND', 'JAMAICA', 'ASTORIA',\n",
       "       'FLUSHING', 'RIDGEWOOD', 'CORONA', 'WOODSIDE'],\n",
       "      dtype='object')"
      ]
     },
     "execution_count": 76,
     "metadata": {},
     "output_type": "execute_result"
    }
   ],
   "source": [
    "top_ten_city_names_values"
   ]
  },
  {
   "cell_type": "code",
   "execution_count": 77,
   "metadata": {},
   "outputs": [],
   "source": [
    "top_ten_data = df_processed.loc[(df_processed['Complaint Type'].isin(top_ten_complaint_types_name)) & (df_processed['City'].isin(top_ten_city_names_values)),['Complaint Type', 'City']]"
   ]
  },
  {
   "cell_type": "code",
   "execution_count": 78,
   "metadata": {},
   "outputs": [
    {
     "data": {
      "text/html": [
       "<div>\n",
       "<style scoped>\n",
       "    .dataframe tbody tr th:only-of-type {\n",
       "        vertical-align: middle;\n",
       "    }\n",
       "\n",
       "    .dataframe tbody tr th {\n",
       "        vertical-align: top;\n",
       "    }\n",
       "\n",
       "    .dataframe thead th {\n",
       "        text-align: right;\n",
       "    }\n",
       "</style>\n",
       "<table border=\"1\" class=\"dataframe\">\n",
       "  <thead>\n",
       "    <tr style=\"text-align: right;\">\n",
       "      <th></th>\n",
       "      <th>Complaint Type</th>\n",
       "      <th>City</th>\n",
       "    </tr>\n",
       "  </thead>\n",
       "  <tbody>\n",
       "    <tr>\n",
       "      <td>0</td>\n",
       "      <td>Noise - Street/Sidewalk</td>\n",
       "      <td>NEW YORK</td>\n",
       "    </tr>\n",
       "    <tr>\n",
       "      <td>1</td>\n",
       "      <td>Blocked Driveway</td>\n",
       "      <td>ASTORIA</td>\n",
       "    </tr>\n",
       "    <tr>\n",
       "      <td>2</td>\n",
       "      <td>Blocked Driveway</td>\n",
       "      <td>BRONX</td>\n",
       "    </tr>\n",
       "    <tr>\n",
       "      <td>3</td>\n",
       "      <td>Illegal Parking</td>\n",
       "      <td>BRONX</td>\n",
       "    </tr>\n",
       "    <tr>\n",
       "      <td>5</td>\n",
       "      <td>Illegal Parking</td>\n",
       "      <td>BROOKLYN</td>\n",
       "    </tr>\n",
       "  </tbody>\n",
       "</table>\n",
       "</div>"
      ],
      "text/plain": [
       "            Complaint Type      City\n",
       "0  Noise - Street/Sidewalk  NEW YORK\n",
       "1         Blocked Driveway   ASTORIA\n",
       "2         Blocked Driveway     BRONX\n",
       "3          Illegal Parking     BRONX\n",
       "5          Illegal Parking  BROOKLYN"
      ]
     },
     "execution_count": 78,
     "metadata": {},
     "output_type": "execute_result"
    }
   ],
   "source": [
    "top_ten_data.head()"
   ]
  },
  {
   "cell_type": "code",
   "execution_count": 79,
   "metadata": {},
   "outputs": [
    {
     "data": {
      "text/html": [
       "<div>\n",
       "<style scoped>\n",
       "    .dataframe tbody tr th:only-of-type {\n",
       "        vertical-align: middle;\n",
       "    }\n",
       "\n",
       "    .dataframe tbody tr th {\n",
       "        vertical-align: top;\n",
       "    }\n",
       "\n",
       "    .dataframe thead th {\n",
       "        text-align: right;\n",
       "    }\n",
       "</style>\n",
       "<table border=\"1\" class=\"dataframe\">\n",
       "  <thead>\n",
       "    <tr style=\"text-align: right;\">\n",
       "      <th>City</th>\n",
       "      <th>ASTORIA</th>\n",
       "      <th>BRONX</th>\n",
       "      <th>BROOKLYN</th>\n",
       "      <th>CORONA</th>\n",
       "      <th>FLUSHING</th>\n",
       "      <th>JAMAICA</th>\n",
       "      <th>NEW YORK</th>\n",
       "      <th>RIDGEWOOD</th>\n",
       "      <th>STATEN ISLAND</th>\n",
       "      <th>WOODSIDE</th>\n",
       "      <th>All</th>\n",
       "    </tr>\n",
       "    <tr>\n",
       "      <th>Complaint Type</th>\n",
       "      <th></th>\n",
       "      <th></th>\n",
       "      <th></th>\n",
       "      <th></th>\n",
       "      <th></th>\n",
       "      <th></th>\n",
       "      <th></th>\n",
       "      <th></th>\n",
       "      <th></th>\n",
       "      <th></th>\n",
       "      <th></th>\n",
       "    </tr>\n",
       "  </thead>\n",
       "  <tbody>\n",
       "    <tr>\n",
       "      <td>Animal Abuse</td>\n",
       "      <td>125</td>\n",
       "      <td>1414</td>\n",
       "      <td>2393</td>\n",
       "      <td>61</td>\n",
       "      <td>142</td>\n",
       "      <td>229</td>\n",
       "      <td>1525</td>\n",
       "      <td>117</td>\n",
       "      <td>557</td>\n",
       "      <td>69</td>\n",
       "      <td>6632</td>\n",
       "    </tr>\n",
       "    <tr>\n",
       "      <td>Blocked Driveway</td>\n",
       "      <td>2618</td>\n",
       "      <td>12751</td>\n",
       "      <td>28131</td>\n",
       "      <td>2761</td>\n",
       "      <td>2793</td>\n",
       "      <td>2817</td>\n",
       "      <td>2071</td>\n",
       "      <td>1694</td>\n",
       "      <td>2142</td>\n",
       "      <td>1611</td>\n",
       "      <td>59389</td>\n",
       "    </tr>\n",
       "    <tr>\n",
       "      <td>Derelict Vehicle</td>\n",
       "      <td>351</td>\n",
       "      <td>1952</td>\n",
       "      <td>5178</td>\n",
       "      <td>57</td>\n",
       "      <td>440</td>\n",
       "      <td>954</td>\n",
       "      <td>537</td>\n",
       "      <td>330</td>\n",
       "      <td>1764</td>\n",
       "      <td>247</td>\n",
       "      <td>11810</td>\n",
       "    </tr>\n",
       "    <tr>\n",
       "      <td>Homeless Encampment</td>\n",
       "      <td>32</td>\n",
       "      <td>246</td>\n",
       "      <td>854</td>\n",
       "      <td>19</td>\n",
       "      <td>26</td>\n",
       "      <td>79</td>\n",
       "      <td>2771</td>\n",
       "      <td>23</td>\n",
       "      <td>71</td>\n",
       "      <td>32</td>\n",
       "      <td>4153</td>\n",
       "    </tr>\n",
       "    <tr>\n",
       "      <td>Illegal Parking</td>\n",
       "      <td>1068</td>\n",
       "      <td>7855</td>\n",
       "      <td>27447</td>\n",
       "      <td>660</td>\n",
       "      <td>1827</td>\n",
       "      <td>1421</td>\n",
       "      <td>12126</td>\n",
       "      <td>1842</td>\n",
       "      <td>4883</td>\n",
       "      <td>891</td>\n",
       "      <td>60020</td>\n",
       "    </tr>\n",
       "    <tr>\n",
       "      <td>Noise - Commercial</td>\n",
       "      <td>1293</td>\n",
       "      <td>2434</td>\n",
       "      <td>11462</td>\n",
       "      <td>247</td>\n",
       "      <td>175</td>\n",
       "      <td>427</td>\n",
       "      <td>14549</td>\n",
       "      <td>398</td>\n",
       "      <td>678</td>\n",
       "      <td>209</td>\n",
       "      <td>31872</td>\n",
       "    </tr>\n",
       "    <tr>\n",
       "      <td>Noise - Park</td>\n",
       "      <td>61</td>\n",
       "      <td>547</td>\n",
       "      <td>1554</td>\n",
       "      <td>24</td>\n",
       "      <td>58</td>\n",
       "      <td>38</td>\n",
       "      <td>1211</td>\n",
       "      <td>28</td>\n",
       "      <td>67</td>\n",
       "      <td>38</td>\n",
       "      <td>3626</td>\n",
       "    </tr>\n",
       "    <tr>\n",
       "      <td>Noise - Street/Sidewalk</td>\n",
       "      <td>386</td>\n",
       "      <td>8892</td>\n",
       "      <td>13355</td>\n",
       "      <td>237</td>\n",
       "      <td>225</td>\n",
       "      <td>334</td>\n",
       "      <td>20431</td>\n",
       "      <td>433</td>\n",
       "      <td>819</td>\n",
       "      <td>250</td>\n",
       "      <td>45362</td>\n",
       "    </tr>\n",
       "    <tr>\n",
       "      <td>Noise - Vehicle</td>\n",
       "      <td>204</td>\n",
       "      <td>3395</td>\n",
       "      <td>5176</td>\n",
       "      <td>100</td>\n",
       "      <td>129</td>\n",
       "      <td>302</td>\n",
       "      <td>5484</td>\n",
       "      <td>217</td>\n",
       "      <td>356</td>\n",
       "      <td>105</td>\n",
       "      <td>15468</td>\n",
       "    </tr>\n",
       "    <tr>\n",
       "      <td>Traffic</td>\n",
       "      <td>47</td>\n",
       "      <td>355</td>\n",
       "      <td>1085</td>\n",
       "      <td>12</td>\n",
       "      <td>47</td>\n",
       "      <td>560</td>\n",
       "      <td>1546</td>\n",
       "      <td>42</td>\n",
       "      <td>199</td>\n",
       "      <td>39</td>\n",
       "      <td>3932</td>\n",
       "    </tr>\n",
       "    <tr>\n",
       "      <td>All</td>\n",
       "      <td>6185</td>\n",
       "      <td>39841</td>\n",
       "      <td>96635</td>\n",
       "      <td>4178</td>\n",
       "      <td>5862</td>\n",
       "      <td>7161</td>\n",
       "      <td>62251</td>\n",
       "      <td>5124</td>\n",
       "      <td>11536</td>\n",
       "      <td>3491</td>\n",
       "      <td>242264</td>\n",
       "    </tr>\n",
       "  </tbody>\n",
       "</table>\n",
       "</div>"
      ],
      "text/plain": [
       "City                     ASTORIA  BRONX  BROOKLYN  CORONA  FLUSHING  JAMAICA  \\\n",
       "Complaint Type                                                                 \n",
       "Animal Abuse                 125   1414      2393      61       142      229   \n",
       "Blocked Driveway            2618  12751     28131    2761      2793     2817   \n",
       "Derelict Vehicle             351   1952      5178      57       440      954   \n",
       "Homeless Encampment           32    246       854      19        26       79   \n",
       "Illegal Parking             1068   7855     27447     660      1827     1421   \n",
       "Noise - Commercial          1293   2434     11462     247       175      427   \n",
       "Noise - Park                  61    547      1554      24        58       38   \n",
       "Noise - Street/Sidewalk      386   8892     13355     237       225      334   \n",
       "Noise - Vehicle              204   3395      5176     100       129      302   \n",
       "Traffic                       47    355      1085      12        47      560   \n",
       "All                         6185  39841     96635    4178      5862     7161   \n",
       "\n",
       "City                     NEW YORK  RIDGEWOOD  STATEN ISLAND  WOODSIDE     All  \n",
       "Complaint Type                                                                 \n",
       "Animal Abuse                 1525        117            557        69    6632  \n",
       "Blocked Driveway             2071       1694           2142      1611   59389  \n",
       "Derelict Vehicle              537        330           1764       247   11810  \n",
       "Homeless Encampment          2771         23             71        32    4153  \n",
       "Illegal Parking             12126       1842           4883       891   60020  \n",
       "Noise - Commercial          14549        398            678       209   31872  \n",
       "Noise - Park                 1211         28             67        38    3626  \n",
       "Noise - Street/Sidewalk     20431        433            819       250   45362  \n",
       "Noise - Vehicle              5484        217            356       105   15468  \n",
       "Traffic                      1546         42            199        39    3932  \n",
       "All                         62251       5124          11536      3491  242264  "
      ]
     },
     "execution_count": 79,
     "metadata": {},
     "output_type": "execute_result"
    }
   ],
   "source": [
    "pd.crosstab(top_ten_data['Complaint Type'], top_ten_data['City'], margins= True)"
   ]
  },
  {
   "cell_type": "code",
   "execution_count": 84,
   "metadata": {},
   "outputs": [
    {
     "name": "stdout",
     "output_type": "stream",
     "text": [
      "58310.682140065874\n",
      "0.0\n"
     ]
    }
   ],
   "source": [
    "ch2, p_value, df, exp_frq = stats.chi2_contingency(pd.crosstab(top_ten_data['Complaint Type'], top_ten_data['City']))\n",
    "print(ch2)\n",
    "print(p_value)"
   ]
  },
  {
   "cell_type": "code",
   "execution_count": null,
   "metadata": {},
   "outputs": [],
   "source": []
  },
  {
   "cell_type": "code",
   "execution_count": null,
   "metadata": {},
   "outputs": [],
   "source": []
  }
 ],
 "metadata": {
  "colab": {
   "name": "NYC Analysis.ipynb",
   "provenance": []
  },
  "kernelspec": {
   "display_name": "Python 3",
   "language": "python",
   "name": "python3"
  },
  "language_info": {
   "codemirror_mode": {
    "name": "ipython",
    "version": 3
   },
   "file_extension": ".py",
   "mimetype": "text/x-python",
   "name": "python",
   "nbconvert_exporter": "python",
   "pygments_lexer": "ipython3",
   "version": "3.7.4"
  }
 },
 "nbformat": 4,
 "nbformat_minor": 1
}
